{
 "cells": [
  {
   "cell_type": "code",
   "execution_count": null,
   "id": "f704985c",
   "metadata": {},
   "outputs": [],
   "source": [
    "Python - Lista de Exercícios (Estrutura de Repetição) \n",
    "link: https://wiki.python.org.br/EstruturaDeRepeticao"
   ]
  },
  {
   "cell_type": "markdown",
   "id": "0788cfd9",
   "metadata": {},
   "source": [
    "3) Faça um programa que leia e valide as seguintes informações:\n\n",
    "a. Nome: maior que 3 caracteres;\n\n",
    "b. Idade: entre 0 e 150;\n\n",
    "c. Salário: maior que zero;\n\n",
    "d. Sexo: 'f' ou 'm';\n\n",
    "e. Estado Civil: 's', 'c', 'v', 'd';"
   ]
  },
  {
   "cell_type": "code",
   "execution_count": null,
   "id": "fdebd53e",
   "metadata": {},
   "outputs": [],
   "source": [
    "Obs.: Visando desenvolver o programa de forma mais dinâmica e menos suscetível a erros, adicionei \n",
    "outras estruturas no corpo do código. De modo que apenas números sejam aceitos nos inputs\n",
    "(Idade e Salário) durante sua execução."
   ]
  },
  {
   "cell_type": "code",
   "execution_count": null,
   "id": "eb6d47b6",
   "metadata": {},
   "outputs": [],
   "source": [
    "while True:\n",
    "  a = input(\"Nome: \")\n",
    "  b = input(\"Idade: \")\n",
    "  c = input(\"Salário: \")\n",
    "  d = input(\"Sexo: (F)Feminino / (M)Masculino: \").upper()\n",
    "  e = input(\"Estado Civil: (S)Solteiro / (C)Casado / (V)Viúvo / (D) Divorciado: \").upper()\n",
    "  try:\n",
    "    float(b), float(c)\n",
    "    if len(a) < 3:\n",
    "      print(\"O Nome não pode possuir menos que 3 caracteres.\")\n",
    "      continue\n",
    "    elif float(b) < 0 or float (b) > 150:\n",
    "      print(\"A Idade deve estar entre 0 e 150.\")\n",
    "      continue\n",
    "    elif float(c) <= 0:\n",
    "      print(\"O Salário não pode ser menor ou igual a 0.\")\n",
    "      continue\n",
    "    elif d != \"F\" and d != \"M\":\n",
    "      print(\"Valor Inválido.\")\n",
    "      continue\n",
    "    elif e != \"S\" and e != \"C\" and e != \"V\" and e != \"D\":\n",
    "      print(\"Valor Inválido.\")\n",
    "      continue\n",
    "    else:\n",
    "      break\n",
    "  except:\n",
    "    print(\"Por favor, digite apenas números para Idade e Salário.\")"
   ]
  }
 ],
 "metadata": {
  "kernelspec": {
   "display_name": "Python 3 (ipykernel)",
   "language": "python",
   "name": "python3"
  },
  "language_info": {
   "codemirror_mode": {
    "name": "ipython",
    "version": 3
   },
   "file_extension": ".py",
   "mimetype": "text/x-python",
   "name": "python",
   "nbconvert_exporter": "python",
   "pygments_lexer": "ipython3",
   "version": "3.8.10"
  }
 },
 "nbformat": 4,
 "nbformat_minor": 5
}
